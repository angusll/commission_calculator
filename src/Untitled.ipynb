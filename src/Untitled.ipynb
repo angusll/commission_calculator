{
 "cells": [
  {
   "cell_type": "code",
   "execution_count": 1,
   "id": "bea4eb49",
   "metadata": {},
   "outputs": [],
   "source": [
    "import pandas as pd\n",
    "from pydantic import BaseModel\n",
    "from models import (\n",
    "    AgentLevelAdditions,\n",
    "    BaseCommissionPercent,\n",
    "    AnnualCommissionBonus,\n",
    ")"
   ]
  },
  {
   "cell_type": "code",
   "execution_count": 2,
   "id": "56afe4d7",
   "metadata": {},
   "outputs": [],
   "source": [
    "from core import MIC, YIC, calculate_rolling_commission, cal_annual_sales"
   ]
  },
  {
   "cell_type": "code",
   "execution_count": 4,
   "id": "314702f4",
   "metadata": {},
   "outputs": [
    {
     "data": {
      "text/plain": [
       "55000.0"
      ]
     },
     "execution_count": 4,
     "metadata": {},
     "output_type": "execute_result"
    }
   ],
   "source": [
    "YIC(275000).get_annual_bonus()"
   ]
  },
  {
   "cell_type": "code",
   "execution_count": 5,
   "id": "16432bce",
   "metadata": {},
   "outputs": [
    {
     "data": {
      "text/plain": [
       "55000.0"
      ]
     },
     "execution_count": 5,
     "metadata": {},
     "output_type": "execute_result"
    }
   ],
   "source": [
    "275000 * 0.2"
   ]
  },
  {
   "cell_type": "code",
   "execution_count": null,
   "id": "e6916995",
   "metadata": {},
   "outputs": [],
   "source": []
  }
 ],
 "metadata": {
  "kernelspec": {
   "display_name": "Python 3 (ipykernel)",
   "language": "python",
   "name": "python3"
  },
  "language_info": {
   "codemirror_mode": {
    "name": "ipython",
    "version": 3
   },
   "file_extension": ".py",
   "mimetype": "text/x-python",
   "name": "python",
   "nbconvert_exporter": "python",
   "pygments_lexer": "ipython3",
   "version": "3.12.0"
  }
 },
 "nbformat": 4,
 "nbformat_minor": 5
}
